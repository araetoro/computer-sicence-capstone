{
 "cells": [
  {
   "cell_type": "markdown",
   "id": "0c9836ac",
   "metadata": {},
   "source": [
    "# importing the libraries"
   ]
  },
  {
   "cell_type": "code",
   "execution_count": 1,
   "id": "21b6c58a",
   "metadata": {},
   "outputs": [],
   "source": [
    "import numpy as np\n",
    "import matplotlib.pyplot as plt\n",
    "import pandas as pd\n",
    "import random"
   ]
  },
  {
   "cell_type": "markdown",
   "id": "530ec013",
   "metadata": {},
   "source": [
    "# importing the data set"
   ]
  },
  {
   "cell_type": "code",
   "execution_count": 2,
   "id": "18546adb",
   "metadata": {},
   "outputs": [],
   "source": [
    "df = pd.read_csv(\"Master_Product_Sales_Data.csv\")"
   ]
  },
  {
   "cell_type": "code",
   "execution_count": 3,
   "id": "09f8f265",
   "metadata": {},
   "outputs": [
    {
     "data": {
      "text/plain": [
       "(1037336, 6)"
      ]
     },
     "execution_count": 3,
     "metadata": {},
     "output_type": "execute_result"
    }
   ],
   "source": [
    "df.shape"
   ]
  },
  {
   "cell_type": "code",
   "execution_count": 4,
   "id": "da1f2213",
   "metadata": {},
   "outputs": [
    {
     "data": {
      "text/html": [
       "<div>\n",
       "<style scoped>\n",
       "    .dataframe tbody tr th:only-of-type {\n",
       "        vertical-align: middle;\n",
       "    }\n",
       "\n",
       "    .dataframe tbody tr th {\n",
       "        vertical-align: top;\n",
       "    }\n",
       "\n",
       "    .dataframe thead th {\n",
       "        text-align: right;\n",
       "    }\n",
       "</style>\n",
       "<table border=\"1\" class=\"dataframe\">\n",
       "  <thead>\n",
       "    <tr style=\"text-align: right;\">\n",
       "      <th></th>\n",
       "      <th>Product_Code</th>\n",
       "      <th>Warehouse</th>\n",
       "      <th>Product_Category</th>\n",
       "      <th>Date</th>\n",
       "      <th>Order_Demand</th>\n",
       "      <th>Total Sales</th>\n",
       "    </tr>\n",
       "  </thead>\n",
       "  <tbody>\n",
       "    <tr>\n",
       "      <th>0</th>\n",
       "      <td>Product_0993</td>\n",
       "      <td>Whse_J</td>\n",
       "      <td>Category_028</td>\n",
       "      <td>2012/7/27</td>\n",
       "      <td>100</td>\n",
       "      <td>13400</td>\n",
       "    </tr>\n",
       "    <tr>\n",
       "      <th>1</th>\n",
       "      <td>Product_0979</td>\n",
       "      <td>Whse_J</td>\n",
       "      <td>Category_028</td>\n",
       "      <td>2012/1/19</td>\n",
       "      <td>500</td>\n",
       "      <td>52500</td>\n",
       "    </tr>\n",
       "    <tr>\n",
       "      <th>2</th>\n",
       "      <td>Product_0979</td>\n",
       "      <td>Whse_J</td>\n",
       "      <td>Category_028</td>\n",
       "      <td>2012/2/3</td>\n",
       "      <td>500</td>\n",
       "      <td>52500</td>\n",
       "    </tr>\n",
       "    <tr>\n",
       "      <th>3</th>\n",
       "      <td>Product_0979</td>\n",
       "      <td>Whse_J</td>\n",
       "      <td>Category_028</td>\n",
       "      <td>2012/2/9</td>\n",
       "      <td>500</td>\n",
       "      <td>52500</td>\n",
       "    </tr>\n",
       "    <tr>\n",
       "      <th>4</th>\n",
       "      <td>Product_0979</td>\n",
       "      <td>Whse_J</td>\n",
       "      <td>Category_028</td>\n",
       "      <td>2012/3/2</td>\n",
       "      <td>500</td>\n",
       "      <td>52500</td>\n",
       "    </tr>\n",
       "  </tbody>\n",
       "</table>\n",
       "</div>"
      ],
      "text/plain": [
       "   Product_Code Warehouse Product_Category       Date  Order_Demand  \\\n",
       "0  Product_0993    Whse_J     Category_028  2012/7/27           100   \n",
       "1  Product_0979    Whse_J     Category_028  2012/1/19           500   \n",
       "2  Product_0979    Whse_J     Category_028   2012/2/3           500   \n",
       "3  Product_0979    Whse_J     Category_028   2012/2/9           500   \n",
       "4  Product_0979    Whse_J     Category_028   2012/3/2           500   \n",
       "\n",
       "   Total Sales  \n",
       "0        13400  \n",
       "1        52500  \n",
       "2        52500  \n",
       "3        52500  \n",
       "4        52500  "
      ]
     },
     "execution_count": 4,
     "metadata": {},
     "output_type": "execute_result"
    }
   ],
   "source": [
    "df.head()"
   ]
  },
  {
   "cell_type": "code",
   "execution_count": 5,
   "id": "d2b1ba1e",
   "metadata": {},
   "outputs": [
    {
     "data": {
      "text/plain": [
       "Product_Code         2160\n",
       "Warehouse               4\n",
       "Product_Category       33\n",
       "Date                 1729\n",
       "Order_Demand         3309\n",
       "Total Sales         17412\n",
       "dtype: int64"
      ]
     },
     "execution_count": 5,
     "metadata": {},
     "output_type": "execute_result"
    }
   ],
   "source": [
    "df.nunique()"
   ]
  },
  {
   "cell_type": "markdown",
   "id": "9e48e3bb",
   "metadata": {},
   "source": [
    "# Cleaning the Dataset"
   ]
  },
  {
   "cell_type": "code",
   "execution_count": 6,
   "id": "4147c8a8",
   "metadata": {},
   "outputs": [],
   "source": [
    "import re"
   ]
  },
  {
   "cell_type": "code",
   "execution_count": 7,
   "id": "1b47aea2",
   "metadata": {},
   "outputs": [],
   "source": [
    "df['Order_Demand'] = df['Order_Demand'].apply(lambda x: re.sub(\"[^0-9]\", \"\", x))"
   ]
  },
  {
   "cell_type": "code",
   "execution_count": 8,
   "id": "b71533c3",
   "metadata": {},
   "outputs": [],
   "source": [
    "df['Order_Demand'] = df['Order_Demand'].astype(int)"
   ]
  },
  {
   "cell_type": "code",
   "execution_count": 1,
   "id": "921ce660",
   "metadata": {},
   "outputs": [],
   "source": [
    "#df"
   ]
  },
  {
   "cell_type": "code",
   "execution_count": 10,
   "id": "7be2b73c",
   "metadata": {},
   "outputs": [],
   "source": [
    "data_code = df[['Product_Code','Order_Demand', 'Total Sales']].groupby(by=['Product_Code']).sum().sort_values(['Order_Demand'])"
   ]
  },
  {
   "cell_type": "code",
   "execution_count": 2,
   "id": "b2414630",
   "metadata": {},
   "outputs": [],
   "source": [
    "#data_code"
   ]
  },
  {
   "cell_type": "code",
   "execution_count": 12,
   "id": "c349b072",
   "metadata": {},
   "outputs": [],
   "source": [
    "data_code = data_code.reset_index()"
   ]
  },
  {
   "cell_type": "code",
   "execution_count": 13,
   "id": "55085bb7",
   "metadata": {},
   "outputs": [],
   "source": [
    "data = data_code[['Order_Demand', 'Total Sales']]"
   ]
  },
  {
   "cell_type": "markdown",
   "id": "5569370e",
   "metadata": {},
   "source": [
    "# defining the data set"
   ]
  },
  {
   "cell_type": "code",
   "execution_count": 14,
   "id": "23bb4bb4",
   "metadata": {},
   "outputs": [],
   "source": [
    "X = data.iloc[:,:].values"
   ]
  },
  {
   "cell_type": "markdown",
   "id": "5516129a",
   "metadata": {},
   "source": [
    "# Using the elbow method to find the optimal number of clusters"
   ]
  },
  {
   "cell_type": "code",
   "execution_count": 15,
   "id": "829613e3",
   "metadata": {},
   "outputs": [
    {
     "name": "stderr",
     "output_type": "stream",
     "text": [
      "C:\\Users\\araet\\Anaconda3\\lib\\site-packages\\sklearn\\cluster\\_kmeans.py:881: UserWarning: KMeans is known to have a memory leak on Windows with MKL, when there are less chunks than available threads. You can avoid it by setting the environment variable OMP_NUM_THREADS=9.\n",
      "  warnings.warn(\n"
     ]
    },
    {
     "data": {
      "image/png": "[encoded data removed]",
      "text/plain": [
       "<Figure size 432x288 with 1 Axes>"
      ]
     },
     "metadata": {
      "needs_background": "light"
     },
     "output_type": "display_data"
    }
   ],
   "source": [
    "from sklearn.cluster import KMeans\n",
    "wcss = []\n",
    "for i in range(1, 11):\n",
    "    kmeans = KMeans(n_clusters = i, init = 'k-means++', random_state = 42)\n",
    "    kmeans.fit(X)\n",
    "    wcss.append(kmeans.inertia_)\n",
    "plt.plot(range(1, 11), wcss)\n",
    "plt.title('The Elbow Method')\n",
    "plt.xlabel('Number of clusters')\n",
    "plt.ylabel('WCSS')\n",
    "plt.show()"
   ]
  },
  {
   "cell_type": "markdown",
   "id": "09d45f89",
   "metadata": {},
   "source": [
    "# Training the K-Means model on the dataset"
   ]
  },
  {
   "cell_type": "code",
   "execution_count": 16,
   "id": "26b1504d",
   "metadata": {},
   "outputs": [],
   "source": [
    "kmeans = KMeans(n_clusters = 3, init = 'k-means++', random_state = 42)\n",
    "y_kmeans = kmeans.fit_predict(X)"
   ]
  },
  {
   "cell_type": "code",
   "execution_count": 17,
   "id": "d6dc3711",
   "metadata": {},
   "outputs": [
    {
     "data": {
      "image/png": "[encoded data removed]",
      "text/plain": [
       "<Figure size 432x288 with 1 Axes>"
      ]
     },
     "metadata": {
      "needs_background": "light"
     },
     "output_type": "display_data"
    }
   ],
   "source": [
    "plt.scatter(X[y_kmeans == 0, 0], X[y_kmeans == 0, 1], s = 100, cmap = 'tab10', label = 'Cluster 1', color ='#951f53' )\n",
    "plt.scatter(X[y_kmeans == 1, 0], X[y_kmeans == 1, 1], s = 100, cmap = 'tab10', label = 'Cluster 2', color = '#e4795a')\n",
    "plt.scatter(X[y_kmeans == 2, 0], X[y_kmeans == 2, 1], s = 100, cmap = 'tab10', label = 'Cluster 3', color = '#b8afac')\n",
    "\n",
    "plt.scatter(kmeans.cluster_centers_[:, 0], kmeans.cluster_centers_[:, 1], s = 300, c = 'yellow', label = 'Centroids')\n",
    "\n",
    "plt.title('Clusters of Products')\n",
    "plt.xlabel('Order Demand')\n",
    "plt.ylabel('Total Sales')\n",
    "plt.legend()\n",
    "plt.show()"
   ]
  },
  {
   "cell_type": "code",
   "execution_count": 18,
   "id": "e73f0577",
   "metadata": {},
   "outputs": [],
   "source": [
    "cluster_featuers = np.insert(X, 2, y_kmeans, axis = 1)"
   ]
  },
  {
   "cell_type": "code",
   "execution_count": 19,
   "id": "fb8dac91",
   "metadata": {},
   "outputs": [],
   "source": [
    "cluster_featuers = pd.DataFrame(cluster_featuers, columns = ['Order_Demand','Sales','Cluster'])"
   ]
  },
  {
   "cell_type": "code",
   "execution_count": 20,
   "id": "9ab64246",
   "metadata": {},
   "outputs": [],
   "source": [
    "product_code = data_code['Product_Code']"
   ]
  },
  {
   "cell_type": "code",
   "execution_count": 21,
   "id": "d065a901",
   "metadata": {},
   "outputs": [],
   "source": [
    "cluster_featuers['Product_Code'] = data_code['Product_Code']"
   ]
  },
  {
   "cell_type": "code",
   "execution_count": 22,
   "id": "83c6385d",
   "metadata": {},
   "outputs": [
    {
     "data": {
      "text/html": [
       "<div>\n",
       "<style scoped>\n",
       "    .dataframe tbody tr th:only-of-type {\n",
       "        vertical-align: middle;\n",
       "    }\n",
       "\n",
       "    .dataframe tbody tr th {\n",
       "        vertical-align: top;\n",
       "    }\n",
       "\n",
       "    .dataframe thead th {\n",
       "        text-align: right;\n",
       "    }\n",
       "</style>\n",
       "<table border=\"1\" class=\"dataframe\">\n",
       "  <thead>\n",
       "    <tr style=\"text-align: right;\">\n",
       "      <th></th>\n",
       "      <th>Order_Demand</th>\n",
       "      <th>Sales</th>\n",
       "      <th>Cluster</th>\n",
       "      <th>Product_Code</th>\n",
       "    </tr>\n",
       "  </thead>\n",
       "  <tbody>\n",
       "    <tr>\n",
       "      <th>0</th>\n",
       "      <td>2</td>\n",
       "      <td>82</td>\n",
       "      <td>0</td>\n",
       "      <td>Product_1703</td>\n",
       "    </tr>\n",
       "    <tr>\n",
       "      <th>1</th>\n",
       "      <td>2</td>\n",
       "      <td>276</td>\n",
       "      <td>0</td>\n",
       "      <td>Product_1698</td>\n",
       "    </tr>\n",
       "    <tr>\n",
       "      <th>2</th>\n",
       "      <td>3</td>\n",
       "      <td>66</td>\n",
       "      <td>0</td>\n",
       "      <td>Product_0465</td>\n",
       "    </tr>\n",
       "    <tr>\n",
       "      <th>3</th>\n",
       "      <td>20</td>\n",
       "      <td>1480</td>\n",
       "      <td>0</td>\n",
       "      <td>Product_0853</td>\n",
       "    </tr>\n",
       "    <tr>\n",
       "      <th>4</th>\n",
       "      <td>22</td>\n",
       "      <td>2464</td>\n",
       "      <td>0</td>\n",
       "      <td>Product_0638</td>\n",
       "    </tr>\n",
       "    <tr>\n",
       "      <th>...</th>\n",
       "      <td>...</td>\n",
       "      <td>...</td>\n",
       "      <td>...</td>\n",
       "      <td>...</td>\n",
       "    </tr>\n",
       "    <tr>\n",
       "      <th>2155</th>\n",
       "      <td>123303000</td>\n",
       "      <td>8384604000</td>\n",
       "      <td>2</td>\n",
       "      <td>Product_1295</td>\n",
       "    </tr>\n",
       "    <tr>\n",
       "      <th>2156</th>\n",
       "      <td>169777000</td>\n",
       "      <td>14431045000</td>\n",
       "      <td>2</td>\n",
       "      <td>Product_1341</td>\n",
       "    </tr>\n",
       "    <tr>\n",
       "      <th>2157</th>\n",
       "      <td>210651000</td>\n",
       "      <td>16641429000</td>\n",
       "      <td>1</td>\n",
       "      <td>Product_0083</td>\n",
       "    </tr>\n",
       "    <tr>\n",
       "      <th>2158</th>\n",
       "      <td>289117000</td>\n",
       "      <td>26020530000</td>\n",
       "      <td>1</td>\n",
       "      <td>Product_1248</td>\n",
       "    </tr>\n",
       "    <tr>\n",
       "      <th>2159</th>\n",
       "      <td>472474000</td>\n",
       "      <td>30710810000</td>\n",
       "      <td>1</td>\n",
       "      <td>Product_1359</td>\n",
       "    </tr>\n",
       "  </tbody>\n",
       "</table>\n",
       "<p>2160 rows × 4 columns</p>\n",
       "</div>"
      ],
      "text/plain": [
       "      Order_Demand        Sales  Cluster  Product_Code\n",
       "0                2           82        0  Product_1703\n",
       "1                2          276        0  Product_1698\n",
       "2                3           66        0  Product_0465\n",
       "3               20         1480        0  Product_0853\n",
       "4               22         2464        0  Product_0638\n",
       "...            ...          ...      ...           ...\n",
       "2155     123303000   8384604000        2  Product_1295\n",
       "2156     169777000  14431045000        2  Product_1341\n",
       "2157     210651000  16641429000        1  Product_0083\n",
       "2158     289117000  26020530000        1  Product_1248\n",
       "2159     472474000  30710810000        1  Product_1359\n",
       "\n",
       "[2160 rows x 4 columns]"
      ]
     },
     "execution_count": 22,
     "metadata": {},
     "output_type": "execute_result"
    }
   ],
   "source": [
    "cluster_featuers"
   ]
  },
  {
   "cell_type": "code",
   "execution_count": 23,
   "id": "59fc8215",
   "metadata": {},
   "outputs": [],
   "source": [
    "cluster_1 = cluster_featuers.loc[cluster_featuers['Cluster']==0]\n",
    "cluster_2 = cluster_featuers.loc[cluster_featuers['Cluster']==1]\n",
    "cluster_3 = cluster_featuers.loc[cluster_featuers['Cluster']==2]"
   ]
  },
  {
   "cell_type": "code",
   "execution_count": 24,
   "id": "aa88b9fb",
   "metadata": {},
   "outputs": [
    {
     "data": {
      "text/html": [
       "<div>\n",
       "<style scoped>\n",
       "    .dataframe tbody tr th:only-of-type {\n",
       "        vertical-align: middle;\n",
       "    }\n",
       "\n",
       "    .dataframe tbody tr th {\n",
       "        vertical-align: top;\n",
       "    }\n",
       "\n",
       "    .dataframe thead th {\n",
       "        text-align: right;\n",
       "    }\n",
       "</style>\n",
       "<table border=\"1\" class=\"dataframe\">\n",
       "  <thead>\n",
       "    <tr style=\"text-align: right;\">\n",
       "      <th></th>\n",
       "      <th>Order_Demand</th>\n",
       "      <th>Sales</th>\n",
       "      <th>Cluster</th>\n",
       "      <th>Product_Code</th>\n",
       "    </tr>\n",
       "  </thead>\n",
       "  <tbody>\n",
       "    <tr>\n",
       "      <th>2157</th>\n",
       "      <td>210651000</td>\n",
       "      <td>16641429000</td>\n",
       "      <td>1</td>\n",
       "      <td>Product_0083</td>\n",
       "    </tr>\n",
       "    <tr>\n",
       "      <th>2158</th>\n",
       "      <td>289117000</td>\n",
       "      <td>26020530000</td>\n",
       "      <td>1</td>\n",
       "      <td>Product_1248</td>\n",
       "    </tr>\n",
       "    <tr>\n",
       "      <th>2159</th>\n",
       "      <td>472474000</td>\n",
       "      <td>30710810000</td>\n",
       "      <td>1</td>\n",
       "      <td>Product_1359</td>\n",
       "    </tr>\n",
       "  </tbody>\n",
       "</table>\n",
       "</div>"
      ],
      "text/plain": [
       "      Order_Demand        Sales  Cluster  Product_Code\n",
       "2157     210651000  16641429000        1  Product_0083\n",
       "2158     289117000  26020530000        1  Product_1248\n",
       "2159     472474000  30710810000        1  Product_1359"
      ]
     },
     "execution_count": 24,
     "metadata": {},
     "output_type": "execute_result"
    }
   ],
   "source": [
    "cluster_2"
   ]
  },
  {
   "cell_type": "code",
   "execution_count": 25,
   "id": "cfe5bd06",
   "metadata": {
    "scrolled": true
   },
   "outputs": [],
   "source": [
    "full_df = pd.merge(df, cluster_featuers, on = 'Product_Code', how='left')"
   ]
  },
  {
   "cell_type": "code",
   "execution_count": 26,
   "id": "1788e903",
   "metadata": {},
   "outputs": [
    {
     "data": {
      "text/html": [
       "<div>\n",
       "<style scoped>\n",
       "    .dataframe tbody tr th:only-of-type {\n",
       "        vertical-align: middle;\n",
       "    }\n",
       "\n",
       "    .dataframe tbody tr th {\n",
       "        vertical-align: top;\n",
       "    }\n",
       "\n",
       "    .dataframe thead th {\n",
       "        text-align: right;\n",
       "    }\n",
       "</style>\n",
       "<table border=\"1\" class=\"dataframe\">\n",
       "  <thead>\n",
       "    <tr style=\"text-align: right;\">\n",
       "      <th></th>\n",
       "      <th>Product_Code</th>\n",
       "      <th>Warehouse</th>\n",
       "      <th>Product_Category</th>\n",
       "      <th>Date</th>\n",
       "      <th>Order_Demand_x</th>\n",
       "      <th>Total Sales</th>\n",
       "      <th>Order_Demand_y</th>\n",
       "      <th>Sales</th>\n",
       "      <th>Cluster</th>\n",
       "    </tr>\n",
       "  </thead>\n",
       "  <tbody>\n",
       "    <tr>\n",
       "      <th>0</th>\n",
       "      <td>Product_0993</td>\n",
       "      <td>Whse_J</td>\n",
       "      <td>Category_028</td>\n",
       "      <td>2012/7/27</td>\n",
       "      <td>100</td>\n",
       "      <td>13400</td>\n",
       "      <td>59700</td>\n",
       "      <td>7999800</td>\n",
       "      <td>0</td>\n",
       "    </tr>\n",
       "    <tr>\n",
       "      <th>1</th>\n",
       "      <td>Product_0979</td>\n",
       "      <td>Whse_J</td>\n",
       "      <td>Category_028</td>\n",
       "      <td>2012/1/19</td>\n",
       "      <td>500</td>\n",
       "      <td>52500</td>\n",
       "      <td>7332500</td>\n",
       "      <td>769912500</td>\n",
       "      <td>0</td>\n",
       "    </tr>\n",
       "    <tr>\n",
       "      <th>2</th>\n",
       "      <td>Product_0979</td>\n",
       "      <td>Whse_J</td>\n",
       "      <td>Category_028</td>\n",
       "      <td>2012/2/3</td>\n",
       "      <td>500</td>\n",
       "      <td>52500</td>\n",
       "      <td>7332500</td>\n",
       "      <td>769912500</td>\n",
       "      <td>0</td>\n",
       "    </tr>\n",
       "    <tr>\n",
       "      <th>3</th>\n",
       "      <td>Product_0979</td>\n",
       "      <td>Whse_J</td>\n",
       "      <td>Category_028</td>\n",
       "      <td>2012/2/9</td>\n",
       "      <td>500</td>\n",
       "      <td>52500</td>\n",
       "      <td>7332500</td>\n",
       "      <td>769912500</td>\n",
       "      <td>0</td>\n",
       "    </tr>\n",
       "    <tr>\n",
       "      <th>4</th>\n",
       "      <td>Product_0979</td>\n",
       "      <td>Whse_J</td>\n",
       "      <td>Category_028</td>\n",
       "      <td>2012/3/2</td>\n",
       "      <td>500</td>\n",
       "      <td>52500</td>\n",
       "      <td>7332500</td>\n",
       "      <td>769912500</td>\n",
       "      <td>0</td>\n",
       "    </tr>\n",
       "    <tr>\n",
       "      <th>...</th>\n",
       "      <td>...</td>\n",
       "      <td>...</td>\n",
       "      <td>...</td>\n",
       "      <td>...</td>\n",
       "      <td>...</td>\n",
       "      <td>...</td>\n",
       "      <td>...</td>\n",
       "      <td>...</td>\n",
       "      <td>...</td>\n",
       "    </tr>\n",
       "    <tr>\n",
       "      <th>1037331</th>\n",
       "      <td>Product_1791</td>\n",
       "      <td>Whse_J</td>\n",
       "      <td>Category_006</td>\n",
       "      <td>2016/4/27</td>\n",
       "      <td>1000</td>\n",
       "      <td>108000</td>\n",
       "      <td>56000</td>\n",
       "      <td>6048000</td>\n",
       "      <td>0</td>\n",
       "    </tr>\n",
       "    <tr>\n",
       "      <th>1037332</th>\n",
       "      <td>Product_1974</td>\n",
       "      <td>Whse_J</td>\n",
       "      <td>Category_006</td>\n",
       "      <td>2016/4/27</td>\n",
       "      <td>1</td>\n",
       "      <td>61</td>\n",
       "      <td>153</td>\n",
       "      <td>9333</td>\n",
       "      <td>0</td>\n",
       "    </tr>\n",
       "    <tr>\n",
       "      <th>1037333</th>\n",
       "      <td>Product_1787</td>\n",
       "      <td>Whse_J</td>\n",
       "      <td>Category_006</td>\n",
       "      <td>2016/4/28</td>\n",
       "      <td>2500</td>\n",
       "      <td>160000</td>\n",
       "      <td>5892500</td>\n",
       "      <td>377120000</td>\n",
       "      <td>0</td>\n",
       "    </tr>\n",
       "    <tr>\n",
       "      <th>1037334</th>\n",
       "      <td>Product_0901</td>\n",
       "      <td>Whse_J</td>\n",
       "      <td>Category_023</td>\n",
       "      <td>2016/10/7</td>\n",
       "      <td>50</td>\n",
       "      <td>6750</td>\n",
       "      <td>104950</td>\n",
       "      <td>14168250</td>\n",
       "      <td>0</td>\n",
       "    </tr>\n",
       "    <tr>\n",
       "      <th>1037335</th>\n",
       "      <td>Product_0704</td>\n",
       "      <td>Whse_J</td>\n",
       "      <td>Category_001</td>\n",
       "      <td>2016/6/27</td>\n",
       "      <td>4</td>\n",
       "      <td>100</td>\n",
       "      <td>1915</td>\n",
       "      <td>47875</td>\n",
       "      <td>0</td>\n",
       "    </tr>\n",
       "  </tbody>\n",
       "</table>\n",
       "<p>1037336 rows × 9 columns</p>\n",
       "</div>"
      ],
      "text/plain": [
       "         Product_Code Warehouse Product_Category       Date  Order_Demand_x  \\\n",
       "0        Product_0993    Whse_J     Category_028  2012/7/27             100   \n",
       "1        Product_0979    Whse_J     Category_028  2012/1/19             500   \n",
       "2        Product_0979    Whse_J     Category_028   2012/2/3             500   \n",
       "3        Product_0979    Whse_J     Category_028   2012/2/9             500   \n",
       "4        Product_0979    Whse_J     Category_028   2012/3/2             500   \n",
       "...               ...       ...              ...        ...             ...   \n",
       "1037331  Product_1791    Whse_J     Category_006  2016/4/27            1000   \n",
       "1037332  Product_1974    Whse_J     Category_006  2016/4/27               1   \n",
       "1037333  Product_1787    Whse_J     Category_006  2016/4/28            2500   \n",
       "1037334  Product_0901    Whse_J     Category_023  2016/10/7              50   \n",
       "1037335  Product_0704    Whse_J     Category_001  2016/6/27               4   \n",
       "\n",
       "         Total Sales  Order_Demand_y      Sales  Cluster  \n",
       "0              13400           59700    7999800        0  \n",
       "1              52500         7332500  769912500        0  \n",
       "2              52500         7332500  769912500        0  \n",
       "3              52500         7332500  769912500        0  \n",
       "4              52500         7332500  769912500        0  \n",
       "...              ...             ...        ...      ...  \n",
       "1037331       108000           56000    6048000        0  \n",
       "1037332           61             153       9333        0  \n",
       "1037333       160000         5892500  377120000        0  \n",
       "1037334         6750          104950   14168250        0  \n",
       "1037335          100            1915      47875        0  \n",
       "\n",
       "[1037336 rows x 9 columns]"
      ]
     },
     "execution_count": 26,
     "metadata": {},
     "output_type": "execute_result"
    }
   ],
   "source": [
    "full_df"
   ]
  },
  {
   "cell_type": "code",
   "execution_count": 27,
   "id": "57276bf1",
   "metadata": {},
   "outputs": [],
   "source": [
    "# cluster_1 = full_df.loc[full_df['cluster']==0]\n",
    "# cluster_2 = full_df.loc[full_df['cluster']==1]\n",
    "# cluster_3 = full_df.loc[full_df['cluster']==2]"
   ]
  },
  {
   "cell_type": "markdown",
   "id": "bc4a2324",
   "metadata": {},
   "source": [
    "# Cluster 1"
   ]
  },
  {
   "cell_type": "code",
   "execution_count": 28,
   "id": "41a5d54e",
   "metadata": {},
   "outputs": [
    {
     "data": {
      "text/html": [
       "<div>\n",
       "<style scoped>\n",
       "    .dataframe tbody tr th:only-of-type {\n",
       "        vertical-align: middle;\n",
       "    }\n",
       "\n",
       "    .dataframe tbody tr th {\n",
       "        vertical-align: top;\n",
       "    }\n",
       "\n",
       "    .dataframe thead th {\n",
       "        text-align: right;\n",
       "    }\n",
       "</style>\n",
       "<table border=\"1\" class=\"dataframe\">\n",
       "  <thead>\n",
       "    <tr style=\"text-align: right;\">\n",
       "      <th></th>\n",
       "      <th>Order_Demand</th>\n",
       "      <th>Sales</th>\n",
       "      <th>Cluster</th>\n",
       "      <th>Product_Code</th>\n",
       "    </tr>\n",
       "  </thead>\n",
       "  <tbody>\n",
       "    <tr>\n",
       "      <th>0</th>\n",
       "      <td>2</td>\n",
       "      <td>82</td>\n",
       "      <td>0</td>\n",
       "      <td>Product_1703</td>\n",
       "    </tr>\n",
       "    <tr>\n",
       "      <th>1</th>\n",
       "      <td>2</td>\n",
       "      <td>276</td>\n",
       "      <td>0</td>\n",
       "      <td>Product_1698</td>\n",
       "    </tr>\n",
       "    <tr>\n",
       "      <th>2</th>\n",
       "      <td>3</td>\n",
       "      <td>66</td>\n",
       "      <td>0</td>\n",
       "      <td>Product_0465</td>\n",
       "    </tr>\n",
       "    <tr>\n",
       "      <th>3</th>\n",
       "      <td>20</td>\n",
       "      <td>1480</td>\n",
       "      <td>0</td>\n",
       "      <td>Product_0853</td>\n",
       "    </tr>\n",
       "    <tr>\n",
       "      <th>4</th>\n",
       "      <td>22</td>\n",
       "      <td>2464</td>\n",
       "      <td>0</td>\n",
       "      <td>Product_0638</td>\n",
       "    </tr>\n",
       "    <tr>\n",
       "      <th>...</th>\n",
       "      <td>...</td>\n",
       "      <td>...</td>\n",
       "      <td>...</td>\n",
       "      <td>...</td>\n",
       "    </tr>\n",
       "    <tr>\n",
       "      <th>2139</th>\n",
       "      <td>61751000</td>\n",
       "      <td>1852530000</td>\n",
       "      <td>0</td>\n",
       "      <td>Product_1342</td>\n",
       "    </tr>\n",
       "    <tr>\n",
       "      <th>2141</th>\n",
       "      <td>73779700</td>\n",
       "      <td>2065831600</td>\n",
       "      <td>0</td>\n",
       "      <td>Product_1016</td>\n",
       "    </tr>\n",
       "    <tr>\n",
       "      <th>2142</th>\n",
       "      <td>76703000</td>\n",
       "      <td>1994278000</td>\n",
       "      <td>0</td>\n",
       "      <td>Product_1350</td>\n",
       "    </tr>\n",
       "    <tr>\n",
       "      <th>2146</th>\n",
       "      <td>81690200</td>\n",
       "      <td>1388733400</td>\n",
       "      <td>0</td>\n",
       "      <td>Product_1382</td>\n",
       "    </tr>\n",
       "    <tr>\n",
       "      <th>2149</th>\n",
       "      <td>91856000</td>\n",
       "      <td>1745264000</td>\n",
       "      <td>0</td>\n",
       "      <td>Product_1451</td>\n",
       "    </tr>\n",
       "  </tbody>\n",
       "</table>\n",
       "<p>2134 rows × 4 columns</p>\n",
       "</div>"
      ],
      "text/plain": [
       "      Order_Demand       Sales  Cluster  Product_Code\n",
       "0                2          82        0  Product_1703\n",
       "1                2         276        0  Product_1698\n",
       "2                3          66        0  Product_0465\n",
       "3               20        1480        0  Product_0853\n",
       "4               22        2464        0  Product_0638\n",
       "...            ...         ...      ...           ...\n",
       "2139      61751000  1852530000        0  Product_1342\n",
       "2141      73779700  2065831600        0  Product_1016\n",
       "2142      76703000  1994278000        0  Product_1350\n",
       "2146      81690200  1388733400        0  Product_1382\n",
       "2149      91856000  1745264000        0  Product_1451\n",
       "\n",
       "[2134 rows x 4 columns]"
      ]
     },
     "execution_count": 28,
     "metadata": {},
     "output_type": "execute_result"
    }
   ],
   "source": [
    "cluster_1"
   ]
  },
  {
   "cell_type": "code",
   "execution_count": 29,
   "id": "79431122",
   "metadata": {},
   "outputs": [
    {
     "data": {
      "text/plain": [
       "array(['Product_1703', 'Product_1698', 'Product_0465', ...,\n",
       "       'Product_1350', 'Product_1382', 'Product_1451'], dtype=object)"
      ]
     },
     "execution_count": 29,
     "metadata": {},
     "output_type": "execute_result"
    }
   ],
   "source": [
    "cluster_1['Product_Code'].unique()"
   ]
  },
  {
   "cell_type": "code",
   "execution_count": 30,
   "id": "9e4ed05d",
   "metadata": {},
   "outputs": [
    {
     "data": {
      "text/plain": [
       "array([       2,        3,       20, ..., 76703000, 81690200, 91856000],\n",
       "      dtype=int64)"
      ]
     },
     "execution_count": 30,
     "metadata": {},
     "output_type": "execute_result"
    }
   ],
   "source": [
    "cluster_1['Order_Demand'].unique()"
   ]
  },
  {
   "cell_type": "markdown",
   "id": "235401ba",
   "metadata": {},
   "source": [
    "# Cluster 2"
   ]
  },
  {
   "cell_type": "code",
   "execution_count": 31,
   "id": "716a23f1",
   "metadata": {},
   "outputs": [
    {
     "data": {
      "text/plain": [
       "array(['Product_0083', 'Product_1248', 'Product_1359'], dtype=object)"
      ]
     },
     "execution_count": 31,
     "metadata": {},
     "output_type": "execute_result"
    }
   ],
   "source": [
    "cluster_2['Product_Code'].unique()"
   ]
  },
  {
   "cell_type": "code",
   "execution_count": 32,
   "id": "9206cdb8",
   "metadata": {},
   "outputs": [
    {
     "data": {
      "text/plain": [
       "array([210651000, 289117000, 472474000], dtype=int64)"
      ]
     },
     "execution_count": 32,
     "metadata": {},
     "output_type": "execute_result"
    }
   ],
   "source": [
    "cluster_2['Order_Demand'].unique()"
   ]
  },
  {
   "cell_type": "markdown",
   "id": "75fb3143",
   "metadata": {},
   "source": [
    "# Cluster 3"
   ]
  },
  {
   "cell_type": "code",
   "execution_count": 33,
   "id": "13090a1b",
   "metadata": {},
   "outputs": [
    {
     "data": {
      "text/plain": [
       "array(['Product_1361', 'Product_1502', 'Product_1567', 'Product_1403',\n",
       "       'Product_1263', 'Product_1152', 'Product_1393', 'Product_1570',\n",
       "       'Product_1377', 'Product_1360', 'Product_1453', 'Product_1480',\n",
       "       'Product_1294', 'Product_1264', 'Product_1378', 'Product_1287',\n",
       "       'Product_1274', 'Product_1432', 'Product_1286', 'Product_1245',\n",
       "       'Product_1241', 'Product_1295', 'Product_1341'], dtype=object)"
      ]
     },
     "execution_count": 33,
     "metadata": {},
     "output_type": "execute_result"
    }
   ],
   "source": [
    "cluster_3['Product_Code'].unique()"
   ]
  },
  {
   "cell_type": "code",
   "execution_count": 34,
   "id": "9612ffd4",
   "metadata": {},
   "outputs": [
    {
     "data": {
      "text/plain": [
       "array([ 28190000,  32672250,  35361000,  37471000,  41760000,  44790000,\n",
       "        47357000,  53776000,  56322600,  61618000,  70504500,  77835000,\n",
       "        78714000,  80187000,  83632700,  88715600,  92831000,  97207000,\n",
       "       101566400, 103537000, 117741000, 123303000, 169777000], dtype=int64)"
      ]
     },
     "execution_count": 34,
     "metadata": {},
     "output_type": "execute_result"
    }
   ],
   "source": [
    "cluster_3['Order_Demand'].unique()"
   ]
  },
  {
   "cell_type": "code",
   "execution_count": 35,
   "id": "c3664c05",
   "metadata": {},
   "outputs": [],
   "source": [
    "#full_df.to_csv(\"Full Sales Data With Clusters.csv\", index=False)"
   ]
  },
  {
   "cell_type": "code",
   "execution_count": null,
   "id": "4fc42d15",
   "metadata": {},
   "outputs": [],
   "source": []
  },
  {
   "cell_type": "code",
   "execution_count": null,
   "id": "bf14eb1e",
   "metadata": {},
   "outputs": [],
   "source": []
  }
 ],
 "metadata": {
  "kernelspec": {
   "display_name": "Python 3",
   "language": "python",
   "name": "python3"
  },
  "language_info": {
   "codemirror_mode": {
    "name": "ipython",
    "version": 3
   },
   "file_extension": ".py",
   "mimetype": "text/x-python",
   "name": "python",
   "nbconvert_exporter": "python",
   "pygments_lexer": "ipython3",
   "version": "3.8.8"
  }
 },
 "nbformat": 4,
 "nbformat_minor": 5
}
