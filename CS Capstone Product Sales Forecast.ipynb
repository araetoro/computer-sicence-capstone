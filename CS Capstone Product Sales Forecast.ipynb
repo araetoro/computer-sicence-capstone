{
 "cells": [
  {
   "cell_type": "markdown",
   "id": "fba2fca8",
   "metadata": {},
   "source": [
    "# importing the libraries"
   ]
  },
  {
   "cell_type": "code",
   "execution_count": 1,
   "id": "21b6c58a",
   "metadata": {},
   "outputs": [],
   "source": [
    "import numpy as np\n",
    "import matplotlib.pyplot as plt\n",
    "import pandas as pd\n",
    "from statsmodels.tsa.arima.model import ARIMA\n",
    "from statsmodels.tsa.seasonal import seasonal_decompose"
   ]
  },
  {
   "cell_type": "markdown",
   "id": "0e72297d",
   "metadata": {},
   "source": [
    "# importing the data set"
   ]
  },
  {
   "cell_type": "code",
   "execution_count": 2,
   "id": "18546adb",
   "metadata": {},
   "outputs": [],
   "source": [
    "df = pd.read_csv(\"Master_Product_Sales_Data.csv\")"
   ]
  },
  {
   "cell_type": "code",
   "execution_count": 3,
   "id": "92ab5c13",
   "metadata": {},
   "outputs": [
    {
     "data": {
      "text/html": [
       "<div>\n",
       "<style scoped>\n",
       "    .dataframe tbody tr th:only-of-type {\n",
       "        vertical-align: middle;\n",
       "    }\n",
       "\n",
       "    .dataframe tbody tr th {\n",
       "        vertical-align: top;\n",
       "    }\n",
       "\n",
       "    .dataframe thead th {\n",
       "        text-align: right;\n",
       "    }\n",
       "</style>\n",
       "<table border=\"1\" class=\"dataframe\">\n",
       "  <thead>\n",
       "    <tr style=\"text-align: right;\">\n",
       "      <th></th>\n",
       "      <th>Product_Code</th>\n",
       "      <th>Warehouse</th>\n",
       "      <th>Product_Category</th>\n",
       "      <th>Date</th>\n",
       "      <th>Order_Demand</th>\n",
       "      <th>Total Sales</th>\n",
       "    </tr>\n",
       "  </thead>\n",
       "  <tbody>\n",
       "    <tr>\n",
       "      <th>0</th>\n",
       "      <td>Product_0993</td>\n",
       "      <td>Whse_J</td>\n",
       "      <td>Category_028</td>\n",
       "      <td>2012/7/27</td>\n",
       "      <td>100</td>\n",
       "      <td>13400</td>\n",
       "    </tr>\n",
       "    <tr>\n",
       "      <th>1</th>\n",
       "      <td>Product_0979</td>\n",
       "      <td>Whse_J</td>\n",
       "      <td>Category_028</td>\n",
       "      <td>2012/1/19</td>\n",
       "      <td>500</td>\n",
       "      <td>52500</td>\n",
       "    </tr>\n",
       "    <tr>\n",
       "      <th>2</th>\n",
       "      <td>Product_0979</td>\n",
       "      <td>Whse_J</td>\n",
       "      <td>Category_028</td>\n",
       "      <td>2012/2/3</td>\n",
       "      <td>500</td>\n",
       "      <td>52500</td>\n",
       "    </tr>\n",
       "    <tr>\n",
       "      <th>3</th>\n",
       "      <td>Product_0979</td>\n",
       "      <td>Whse_J</td>\n",
       "      <td>Category_028</td>\n",
       "      <td>2012/2/9</td>\n",
       "      <td>500</td>\n",
       "      <td>52500</td>\n",
       "    </tr>\n",
       "    <tr>\n",
       "      <th>4</th>\n",
       "      <td>Product_0979</td>\n",
       "      <td>Whse_J</td>\n",
       "      <td>Category_028</td>\n",
       "      <td>2012/3/2</td>\n",
       "      <td>500</td>\n",
       "      <td>52500</td>\n",
       "    </tr>\n",
       "    <tr>\n",
       "      <th>...</th>\n",
       "      <td>...</td>\n",
       "      <td>...</td>\n",
       "      <td>...</td>\n",
       "      <td>...</td>\n",
       "      <td>...</td>\n",
       "      <td>...</td>\n",
       "    </tr>\n",
       "    <tr>\n",
       "      <th>1037331</th>\n",
       "      <td>Product_1791</td>\n",
       "      <td>Whse_J</td>\n",
       "      <td>Category_006</td>\n",
       "      <td>2016/4/27</td>\n",
       "      <td>1000</td>\n",
       "      <td>108000</td>\n",
       "    </tr>\n",
       "    <tr>\n",
       "      <th>1037332</th>\n",
       "      <td>Product_1974</td>\n",
       "      <td>Whse_J</td>\n",
       "      <td>Category_006</td>\n",
       "      <td>2016/4/27</td>\n",
       "      <td>1</td>\n",
       "      <td>61</td>\n",
       "    </tr>\n",
       "    <tr>\n",
       "      <th>1037333</th>\n",
       "      <td>Product_1787</td>\n",
       "      <td>Whse_J</td>\n",
       "      <td>Category_006</td>\n",
       "      <td>2016/4/28</td>\n",
       "      <td>2500</td>\n",
       "      <td>160000</td>\n",
       "    </tr>\n",
       "    <tr>\n",
       "      <th>1037334</th>\n",
       "      <td>Product_0901</td>\n",
       "      <td>Whse_J</td>\n",
       "      <td>Category_023</td>\n",
       "      <td>2016/10/7</td>\n",
       "      <td>50</td>\n",
       "      <td>6750</td>\n",
       "    </tr>\n",
       "    <tr>\n",
       "      <th>1037335</th>\n",
       "      <td>Product_0704</td>\n",
       "      <td>Whse_J</td>\n",
       "      <td>Category_001</td>\n",
       "      <td>2016/6/27</td>\n",
       "      <td>4</td>\n",
       "      <td>100</td>\n",
       "    </tr>\n",
       "  </tbody>\n",
       "</table>\n",
       "<p>1037336 rows × 6 columns</p>\n",
       "</div>"
      ],
      "text/plain": [
       "         Product_Code Warehouse Product_Category       Date  Order_Demand  \\\n",
       "0        Product_0993    Whse_J     Category_028  2012/7/27           100   \n",
       "1        Product_0979    Whse_J     Category_028  2012/1/19           500   \n",
       "2        Product_0979    Whse_J     Category_028   2012/2/3           500   \n",
       "3        Product_0979    Whse_J     Category_028   2012/2/9           500   \n",
       "4        Product_0979    Whse_J     Category_028   2012/3/2           500   \n",
       "...               ...       ...              ...        ...           ...   \n",
       "1037331  Product_1791    Whse_J     Category_006  2016/4/27          1000   \n",
       "1037332  Product_1974    Whse_J     Category_006  2016/4/27             1   \n",
       "1037333  Product_1787    Whse_J     Category_006  2016/4/28          2500   \n",
       "1037334  Product_0901    Whse_J     Category_023  2016/10/7            50   \n",
       "1037335  Product_0704    Whse_J     Category_001  2016/6/27             4   \n",
       "\n",
       "         Total Sales  \n",
       "0              13400  \n",
       "1              52500  \n",
       "2              52500  \n",
       "3              52500  \n",
       "4              52500  \n",
       "...              ...  \n",
       "1037331       108000  \n",
       "1037332           61  \n",
       "1037333       160000  \n",
       "1037334         6750  \n",
       "1037335          100  \n",
       "\n",
       "[1037336 rows x 6 columns]"
      ]
     },
     "execution_count": 3,
     "metadata": {},
     "output_type": "execute_result"
    }
   ],
   "source": [
    "df"
   ]
  },
  {
   "cell_type": "markdown",
   "id": "ed5c194f",
   "metadata": {},
   "source": [
    "# Cleaning the dataset"
   ]
  },
  {
   "cell_type": "code",
   "execution_count": 4,
   "id": "0d4c4936",
   "metadata": {},
   "outputs": [
    {
     "data": {
      "text/plain": [
       "Product_Code         2160\n",
       "Warehouse               4\n",
       "Product_Category       33\n",
       "Date                 1729\n",
       "Order_Demand         3309\n",
       "Total Sales         17412\n",
       "dtype: int64"
      ]
     },
     "execution_count": 4,
     "metadata": {},
     "output_type": "execute_result"
    }
   ],
   "source": [
    "df.nunique()"
   ]
  },
  {
   "cell_type": "code",
   "execution_count": 5,
   "id": "fc16618f",
   "metadata": {},
   "outputs": [],
   "source": [
    "df = df[['Date', 'Order_Demand']]"
   ]
  },
  {
   "cell_type": "code",
   "execution_count": 6,
   "id": "f2a2793e",
   "metadata": {},
   "outputs": [
    {
     "name": "stderr",
     "output_type": "stream",
     "text": [
      "<ipython-input-6-d1cefc9bc903>:1: SettingWithCopyWarning: \n",
      "A value is trying to be set on a copy of a slice from a DataFrame.\n",
      "Try using .loc[row_indexer,col_indexer] = value instead\n",
      "\n",
      "See the caveats in the documentation: https://pandas.pydata.org/pandas-docs/stable/user_guide/indexing.html#returning-a-view-versus-a-copy\n",
      "  df['Date'] = pd.to_datetime(df['Date'], format = '%Y/%m/%d')\n"
     ]
    }
   ],
   "source": [
    "df['Date'] = pd.to_datetime(df['Date'], format = '%Y/%m/%d')"
   ]
  },
  {
   "cell_type": "code",
   "execution_count": 7,
   "id": "8b7b120a",
   "metadata": {},
   "outputs": [],
   "source": [
    "df = df.set_index('Date')"
   ]
  },
  {
   "cell_type": "code",
   "execution_count": 8,
   "id": "03b55bbf",
   "metadata": {},
   "outputs": [],
   "source": [
    "dataset = df[['Order_Demand']]"
   ]
  },
  {
   "cell_type": "code",
   "execution_count": 9,
   "id": "2260cf47",
   "metadata": {},
   "outputs": [],
   "source": [
    "dataset = dataset.resample('M').sum()"
   ]
  },
  {
   "cell_type": "code",
   "execution_count": 10,
   "id": "765ef33c",
   "metadata": {},
   "outputs": [],
   "source": [
    "# removing the outliers\n",
    "dataset = dataset.iloc[12:-1,:]"
   ]
  },
  {
   "cell_type": "markdown",
   "id": "20059d84",
   "metadata": {},
   "source": [
    "# ETS Decompostion"
   ]
  },
  {
   "cell_type": "code",
   "execution_count": 11,
   "id": "d0eea4fb",
   "metadata": {},
   "outputs": [],
   "source": [
    "ets_result = seasonal_decompose(dataset, model = 'additive')"
   ]
  },
  {
   "cell_type": "code",
   "execution_count": 12,
   "id": "d7e095d4",
   "metadata": {},
   "outputs": [
    {
     "data": {
      "image/png": "[encoded data removed]",
      "text/plain": [
       "<Figure size 432x288 with 4 Axes>"
      ]
     },
     "execution_count": 12,
     "metadata": {},
     "output_type": "execute_result"
    },
    {
     "data": {
      "image/png": "[encoded data removed]",
      "text/plain": [
       "<Figure size 432x288 with 4 Axes>"
      ]
     },
     "metadata": {
      "needs_background": "light"
     },
     "output_type": "display_data"
    }
   ],
   "source": [
    "ets_result.plot()"
   ]
  },
  {
   "cell_type": "code",
   "execution_count": 13,
   "id": "bff65e0b",
   "metadata": {},
   "outputs": [
    {
     "name": "stdout",
     "output_type": "stream",
     "text": [
      "Requirement already satisfied: pmdarima in c:\\users\\araet\\anaconda3\\lib\\site-packages (1.8.3)\n",
      "Requirement already satisfied: scipy>=1.3.2 in c:\\users\\araet\\anaconda3\\lib\\site-packages (from pmdarima) (1.6.2)\n",
      "Requirement already satisfied: statsmodels!=0.12.0,>=0.11 in c:\\users\\araet\\anaconda3\\lib\\site-packages (from pmdarima) (0.12.2)\n",
      "Requirement already satisfied: urllib3 in c:\\users\\araet\\anaconda3\\lib\\site-packages (from pmdarima) (1.26.4)\n",
      "Requirement already satisfied: scikit-learn>=0.22 in c:\\users\\araet\\anaconda3\\lib\\site-packages (from pmdarima) (0.24.1)\n",
      "Requirement already satisfied: setuptools!=50.0.0,>=38.6.0 in c:\\users\\araet\\anaconda3\\lib\\site-packages (from pmdarima) (52.0.0.post20210125)\n",
      "Requirement already satisfied: Cython!=0.29.18,>=0.29 in c:\\users\\araet\\anaconda3\\lib\\site-packages (from pmdarima) (0.29.23)\n",
      "Requirement already satisfied: joblib>=0.11 in c:\\users\\araet\\anaconda3\\lib\\site-packages (from pmdarima) (1.0.1)\n",
      "Requirement already satisfied: pandas>=0.19 in c:\\users\\araet\\anaconda3\\lib\\site-packages (from pmdarima) (1.2.4)\n",
      "Requirement already satisfied: numpy>=1.19.3 in c:\\users\\araet\\anaconda3\\lib\\site-packages (from pmdarima) (1.20.1)\n",
      "Requirement already satisfied: pytz>=2017.3 in c:\\users\\araet\\anaconda3\\lib\\site-packages (from pandas>=0.19->pmdarima) (2021.1)\n",
      "Requirement already satisfied: python-dateutil>=2.7.3 in c:\\users\\araet\\anaconda3\\lib\\site-packages (from pandas>=0.19->pmdarima) (2.8.1)\n",
      "Requirement already satisfied: six>=1.5 in c:\\users\\araet\\anaconda3\\lib\\site-packages (from python-dateutil>=2.7.3->pandas>=0.19->pmdarima) (1.15.0)\n",
      "Requirement already satisfied: threadpoolctl>=2.0.0 in c:\\users\\araet\\anaconda3\\lib\\site-packages (from scikit-learn>=0.22->pmdarima) (2.1.0)\n",
      "Requirement already satisfied: patsy>=0.5 in c:\\users\\araet\\anaconda3\\lib\\site-packages (from statsmodels!=0.12.0,>=0.11->pmdarima) (0.5.1)\n",
      "Note: you may need to restart the kernel to use updated packages.\n"
     ]
    }
   ],
   "source": [
    "pip install pmdarima"
   ]
  },
  {
   "cell_type": "code",
   "execution_count": 14,
   "id": "644969b6",
   "metadata": {},
   "outputs": [],
   "source": [
    "# Import the library\n",
    "from pmdarima import auto_arima"
   ]
  },
  {
   "cell_type": "markdown",
   "id": "947c1971",
   "metadata": {},
   "source": [
    "# Parameter analysis for ARIMA model"
   ]
  },
  {
   "cell_type": "code",
   "execution_count": 15,
   "id": "34246a60",
   "metadata": {},
   "outputs": [],
   "source": [
    "import warnings"
   ]
  },
  {
   "cell_type": "code",
   "execution_count": 16,
   "id": "53334309",
   "metadata": {},
   "outputs": [],
   "source": [
    "warnings.filterwarnings(\"ignore\")"
   ]
  },
  {
   "cell_type": "code",
   "execution_count": 17,
   "id": "37ed0b17",
   "metadata": {},
   "outputs": [
    {
     "name": "stdout",
     "output_type": "stream",
     "text": [
      "Performing stepwise search to minimize aic\n",
      " ARIMA(1,1,1)(1,1,1)[12]             : AIC=inf, Time=0.13 sec\n",
      " ARIMA(0,1,0)(0,1,0)[12]             : AIC=1656.011, Time=0.01 sec\n",
      " ARIMA(1,1,0)(1,1,0)[12]             : AIC=1657.591, Time=0.03 sec\n",
      " ARIMA(0,1,1)(0,1,1)[12]             : AIC=1654.560, Time=0.05 sec\n",
      " ARIMA(0,1,1)(0,1,0)[12]             : AIC=1657.739, Time=0.02 sec\n",
      " ARIMA(0,1,1)(1,1,1)[12]             : AIC=inf, Time=0.10 sec\n",
      " ARIMA(0,1,1)(0,1,2)[12]             : AIC=1651.070, Time=0.10 sec\n",
      " ARIMA(0,1,1)(1,1,2)[12]             : AIC=1653.068, Time=0.19 sec\n",
      " ARIMA(0,1,0)(0,1,2)[12]             : AIC=1650.632, Time=0.06 sec\n",
      " ARIMA(0,1,0)(0,1,1)[12]             : AIC=1653.385, Time=0.02 sec\n",
      " ARIMA(0,1,0)(1,1,2)[12]             : AIC=1652.620, Time=0.14 sec\n",
      " ARIMA(0,1,0)(1,1,1)[12]             : AIC=1651.554, Time=0.06 sec\n",
      " ARIMA(1,1,0)(0,1,2)[12]             : AIC=1651.488, Time=0.09 sec\n",
      " ARIMA(1,1,1)(0,1,2)[12]             : AIC=1652.010, Time=0.21 sec\n",
      " ARIMA(0,1,0)(0,1,2)[12] intercept   : AIC=1652.762, Time=0.08 sec\n",
      "\n",
      "Best model:  ARIMA(0,1,0)(0,1,2)[12]          \n",
      "Total fit time: 1.276 seconds\n"
     ]
    }
   ],
   "source": [
    "stepwise_fit = auto_arima(dataset['Order_Demand'], start_p = 1, start_q = 1, max_p=3, max_q = 3, m =12, seasonal = True, d=None, D=1, trace= True, error_action = 'ignore', surpress_warnings = True, stepwise = True)"
   ]
  },
  {
   "cell_type": "code",
   "execution_count": 18,
   "id": "04120cf7",
   "metadata": {},
   "outputs": [
    {
     "data": {
      "text/html": [
       "<table class=\"simpletable\">\n",
       "<caption>SARIMAX Results</caption>\n",
       "<tr>\n",
       "  <th>Dep. Variable:</th>                    <td>y</td>                  <th>  No. Observations:  </th>    <td>60</td>   \n",
       "</tr>\n",
       "<tr>\n",
       "  <th>Model:</th>           <td>SARIMAX(0, 1, 0)x(0, 1, [1, 2], 12)</td> <th>  Log Likelihood     </th> <td>-822.316</td>\n",
       "</tr>\n",
       "<tr>\n",
       "  <th>Date:</th>                     <td>Thu, 04 Nov 2021</td>           <th>  AIC                </th> <td>1650.632</td>\n",
       "</tr>\n",
       "<tr>\n",
       "  <th>Time:</th>                         <td>14:47:39</td>               <th>  BIC                </th> <td>1656.182</td>\n",
       "</tr>\n",
       "<tr>\n",
       "  <th>Sample:</th>                           <td>0</td>                  <th>  HQIC               </th> <td>1652.720</td>\n",
       "</tr>\n",
       "<tr>\n",
       "  <th></th>                                <td> - 60</td>                <th>                     </th>     <td> </td>   \n",
       "</tr>\n",
       "<tr>\n",
       "  <th>Covariance Type:</th>                 <td>opg</td>                 <th>                     </th>     <td> </td>   \n",
       "</tr>\n",
       "</table>\n",
       "<table class=\"simpletable\">\n",
       "<tr>\n",
       "      <td></td>        <th>coef</th>     <th>std err</th>      <th>z</th>      <th>P>|z|</th>  <th>[0.025</th>    <th>0.975]</th>  \n",
       "</tr>\n",
       "<tr>\n",
       "  <th>ma.S.L12</th> <td>   -0.3482</td> <td>    0.276</td> <td>   -1.263</td> <td> 0.207</td> <td>   -0.889</td> <td>    0.192</td>\n",
       "</tr>\n",
       "<tr>\n",
       "  <th>ma.S.L24</th> <td>   -0.2890</td> <td>    0.223</td> <td>   -1.297</td> <td> 0.195</td> <td>   -0.726</td> <td>    0.148</td>\n",
       "</tr>\n",
       "<tr>\n",
       "  <th>sigma2</th>   <td> 1.043e+14</td> <td> 3.45e-16</td> <td> 3.03e+29</td> <td> 0.000</td> <td> 1.04e+14</td> <td> 1.04e+14</td>\n",
       "</tr>\n",
       "</table>\n",
       "<table class=\"simpletable\">\n",
       "<tr>\n",
       "  <th>Ljung-Box (L1) (Q):</th>     <td>4.49</td> <th>  Jarque-Bera (JB):  </th> <td>1.10</td> \n",
       "</tr>\n",
       "<tr>\n",
       "  <th>Prob(Q):</th>                <td>0.03</td> <th>  Prob(JB):          </th> <td>0.58</td> \n",
       "</tr>\n",
       "<tr>\n",
       "  <th>Heteroskedasticity (H):</th> <td>1.01</td> <th>  Skew:              </th> <td>-0.30</td>\n",
       "</tr>\n",
       "<tr>\n",
       "  <th>Prob(H) (two-sided):</th>    <td>0.99</td> <th>  Kurtosis:          </th> <td>2.54</td> \n",
       "</tr>\n",
       "</table><br/><br/>Warnings:<br/>[1] Covariance matrix calculated using the outer product of gradients (complex-step).<br/>[2] Covariance matrix is singular or near-singular, with condition number 2.78e+45. Standard errors may be unstable."
      ],
      "text/plain": [
       "<class 'statsmodels.iolib.summary.Summary'>\n",
       "\"\"\"\n",
       "                                        SARIMAX Results                                        \n",
       "===============================================================================================\n",
       "Dep. Variable:                                       y   No. Observations:                   60\n",
       "Model:             SARIMAX(0, 1, 0)x(0, 1, [1, 2], 12)   Log Likelihood                -822.316\n",
       "Date:                                 Thu, 04 Nov 2021   AIC                           1650.632\n",
       "Time:                                         14:47:39   BIC                           1656.182\n",
       "Sample:                                              0   HQIC                          1652.720\n",
       "                                                  - 60                                         \n",
       "Covariance Type:                                   opg                                         \n",
       "==============================================================================\n",
       "                 coef    std err          z      P>|z|      [0.025      0.975]\n",
       "------------------------------------------------------------------------------\n",
       "ma.S.L12      -0.3482      0.276     -1.263      0.207      -0.889       0.192\n",
       "ma.S.L24      -0.2890      0.223     -1.297      0.195      -0.726       0.148\n",
       "sigma2      1.043e+14   3.45e-16   3.03e+29      0.000    1.04e+14    1.04e+14\n",
       "===================================================================================\n",
       "Ljung-Box (L1) (Q):                   4.49   Jarque-Bera (JB):                 1.10\n",
       "Prob(Q):                              0.03   Prob(JB):                         0.58\n",
       "Heteroskedasticity (H):               1.01   Skew:                            -0.30\n",
       "Prob(H) (two-sided):                  0.99   Kurtosis:                         2.54\n",
       "===================================================================================\n",
       "\n",
       "Warnings:\n",
       "[1] Covariance matrix calculated using the outer product of gradients (complex-step).\n",
       "[2] Covariance matrix is singular or near-singular, with condition number 2.78e+45. Standard errors may be unstable.\n",
       "\"\"\""
      ]
     },
     "execution_count": 18,
     "metadata": {},
     "output_type": "execute_result"
    }
   ],
   "source": [
    "stepwise_fit.summary()"
   ]
  },
  {
   "cell_type": "markdown",
   "id": "eb80b682",
   "metadata": {},
   "source": [
    "# split into train test sets"
   ]
  },
  {
   "cell_type": "code",
   "execution_count": 19,
   "id": "353a9fa8",
   "metadata": {},
   "outputs": [],
   "source": [
    "train = dataset.iloc[:len(dataset)-12]\n",
    "test = dataset.iloc[len(dataset)-12:]"
   ]
  },
  {
   "cell_type": "code",
   "execution_count": 20,
   "id": "9c3ed2ff",
   "metadata": {},
   "outputs": [],
   "source": [
    "# Fit ARIMA model"
   ]
  },
  {
   "cell_type": "code",
   "execution_count": 21,
   "id": "8804217c",
   "metadata": {},
   "outputs": [],
   "source": [
    "from statsmodels.tsa.statespace.sarimax import SARIMAX"
   ]
  },
  {
   "cell_type": "code",
   "execution_count": 22,
   "id": "53f031dc",
   "metadata": {},
   "outputs": [],
   "source": [
    "model = SARIMAX(train['Order_Demand'],\n",
    "               order=(0,1,0),\n",
    "               seasonal_order=(0,1,[1,2],12))"
   ]
  },
  {
   "cell_type": "code",
   "execution_count": 23,
   "id": "31f1040e",
   "metadata": {},
   "outputs": [],
   "source": [
    "result = model.fit()"
   ]
  },
  {
   "cell_type": "code",
   "execution_count": 24,
   "id": "60052fdf",
   "metadata": {},
   "outputs": [
    {
     "data": {
      "text/html": [
       "<table class=\"simpletable\">\n",
       "<caption>SARIMAX Results</caption>\n",
       "<tr>\n",
       "  <th>Dep. Variable:</th>              <td>Order_Demand</td>             <th>  No. Observations:  </th>    <td>48</td>   \n",
       "</tr>\n",
       "<tr>\n",
       "  <th>Model:</th>           <td>SARIMAX(0, 1, 0)x(0, 1, [1, 2], 12)</td> <th>  Log Likelihood     </th> <td>-611.617</td>\n",
       "</tr>\n",
       "<tr>\n",
       "  <th>Date:</th>                     <td>Thu, 04 Nov 2021</td>           <th>  AIC                </th> <td>1229.234</td>\n",
       "</tr>\n",
       "<tr>\n",
       "  <th>Time:</th>                         <td>14:47:39</td>               <th>  BIC                </th> <td>1233.900</td>\n",
       "</tr>\n",
       "<tr>\n",
       "  <th>Sample:</th>                      <td>01-31-2012</td>              <th>  HQIC               </th> <td>1230.845</td>\n",
       "</tr>\n",
       "<tr>\n",
       "  <th></th>                            <td>- 12-31-2015</td>             <th>                     </th>     <td> </td>   \n",
       "</tr>\n",
       "<tr>\n",
       "  <th>Covariance Type:</th>                 <td>opg</td>                 <th>                     </th>     <td> </td>   \n",
       "</tr>\n",
       "</table>\n",
       "<table class=\"simpletable\">\n",
       "<tr>\n",
       "      <td></td>        <th>coef</th>     <th>std err</th>      <th>z</th>      <th>P>|z|</th>  <th>[0.025</th>    <th>0.975]</th>  \n",
       "</tr>\n",
       "<tr>\n",
       "  <th>ma.S.L12</th> <td>   -0.3117</td> <td>    0.305</td> <td>   -1.023</td> <td> 0.306</td> <td>   -0.909</td> <td>    0.285</td>\n",
       "</tr>\n",
       "<tr>\n",
       "  <th>ma.S.L24</th> <td>   -0.2382</td> <td>    0.206</td> <td>   -1.155</td> <td> 0.248</td> <td>   -0.642</td> <td>    0.166</td>\n",
       "</tr>\n",
       "<tr>\n",
       "  <th>sigma2</th>   <td> 9.636e+13</td> <td>      nan</td> <td>      nan</td> <td>   nan</td> <td>      nan</td> <td>      nan</td>\n",
       "</tr>\n",
       "</table>\n",
       "<table class=\"simpletable\">\n",
       "<tr>\n",
       "  <th>Ljung-Box (L1) (Q):</th>     <td>1.93</td> <th>  Jarque-Bera (JB):  </th> <td>0.63</td> \n",
       "</tr>\n",
       "<tr>\n",
       "  <th>Prob(Q):</th>                <td>0.17</td> <th>  Prob(JB):          </th> <td>0.73</td> \n",
       "</tr>\n",
       "<tr>\n",
       "  <th>Heteroskedasticity (H):</th> <td>0.53</td> <th>  Skew:              </th> <td>-0.05</td>\n",
       "</tr>\n",
       "<tr>\n",
       "  <th>Prob(H) (two-sided):</th>    <td>0.29</td> <th>  Kurtosis:          </th> <td>2.35</td> \n",
       "</tr>\n",
       "</table><br/><br/>Warnings:<br/>[1] Covariance matrix calculated using the outer product of gradients (complex-step).<br/>[2] Covariance matrix is singular or near-singular, with condition number 2.47e+45. Standard errors may be unstable."
      ],
      "text/plain": [
       "<class 'statsmodels.iolib.summary.Summary'>\n",
       "\"\"\"\n",
       "                                        SARIMAX Results                                        \n",
       "===============================================================================================\n",
       "Dep. Variable:                            Order_Demand   No. Observations:                   48\n",
       "Model:             SARIMAX(0, 1, 0)x(0, 1, [1, 2], 12)   Log Likelihood                -611.617\n",
       "Date:                                 Thu, 04 Nov 2021   AIC                           1229.234\n",
       "Time:                                         14:47:39   BIC                           1233.900\n",
       "Sample:                                     01-31-2012   HQIC                          1230.845\n",
       "                                          - 12-31-2015                                         \n",
       "Covariance Type:                                   opg                                         \n",
       "==============================================================================\n",
       "                 coef    std err          z      P>|z|      [0.025      0.975]\n",
       "------------------------------------------------------------------------------\n",
       "ma.S.L12      -0.3117      0.305     -1.023      0.306      -0.909       0.285\n",
       "ma.S.L24      -0.2382      0.206     -1.155      0.248      -0.642       0.166\n",
       "sigma2      9.636e+13        nan        nan        nan         nan         nan\n",
       "===================================================================================\n",
       "Ljung-Box (L1) (Q):                   1.93   Jarque-Bera (JB):                 0.63\n",
       "Prob(Q):                              0.17   Prob(JB):                         0.73\n",
       "Heteroskedasticity (H):               0.53   Skew:                            -0.05\n",
       "Prob(H) (two-sided):                  0.29   Kurtosis:                         2.35\n",
       "===================================================================================\n",
       "\n",
       "Warnings:\n",
       "[1] Covariance matrix calculated using the outer product of gradients (complex-step).\n",
       "[2] Covariance matrix is singular or near-singular, with condition number 2.47e+45. Standard errors may be unstable.\n",
       "\"\"\""
      ]
     },
     "execution_count": 24,
     "metadata": {},
     "output_type": "execute_result"
    }
   ],
   "source": [
    "result.summary()"
   ]
  },
  {
   "cell_type": "code",
   "execution_count": 25,
   "id": "f9d1c778",
   "metadata": {},
   "outputs": [],
   "source": [
    "# Pred against test set"
   ]
  },
  {
   "cell_type": "code",
   "execution_count": 26,
   "id": "187143e8",
   "metadata": {},
   "outputs": [],
   "source": [
    "start = len(train)\n",
    "end = len(train) + len(test) - 1"
   ]
  },
  {
   "cell_type": "code",
   "execution_count": 27,
   "id": "db3ccb18",
   "metadata": {},
   "outputs": [],
   "source": [
    "# Predictions for one-year against the test set\n",
    "predictions = result.predict(start, end,\n",
    "                             typ = 'levels').rename(\"Predictions\")"
   ]
  },
  {
   "cell_type": "code",
   "execution_count": 28,
   "id": "84cf2229",
   "metadata": {},
   "outputs": [
    {
     "data": {
      "text/plain": [
       "<AxesSubplot:xlabel='Date'>"
      ]
     },
     "execution_count": 28,
     "metadata": {},
     "output_type": "execute_result"
    },
    {
     "data": {
      "image/png": "[encoded data removed]",
      "text/plain": [
       "<Figure size 432x288 with 1 Axes>"
      ]
     },
     "metadata": {
      "needs_background": "light"
     },
     "output_type": "display_data"
    }
   ],
   "source": [
    "predictions.plot(legend = True, color = \"#951f53\")\n",
    "test['Order_Demand'].plot(legend = True)\n",
    "train['Order_Demand'].plot(legend = True)"
   ]
  },
  {
   "cell_type": "code",
   "execution_count": 29,
   "id": "0f4d7d79",
   "metadata": {},
   "outputs": [],
   "source": [
    "#notes: https://www.geeksforgeeks.org/python-arima-model-for-time-series-forecasting/"
   ]
  },
  {
   "cell_type": "markdown",
   "id": "f927d653",
   "metadata": {},
   "source": [
    "# Evaluare the model using MSE and RMSE"
   ]
  },
  {
   "cell_type": "code",
   "execution_count": 30,
   "id": "1503e5ca",
   "metadata": {},
   "outputs": [],
   "source": [
    "from sklearn.metrics import mean_squared_error\n",
    "from statsmodels.tools.eval_measures import rmse\n",
    "from sklearn.metrics import accuracy_score "
   ]
  },
  {
   "cell_type": "code",
   "execution_count": 31,
   "id": "0a21c6d2",
   "metadata": {},
   "outputs": [
    {
     "data": {
      "text/plain": [
       "12228976.658876069"
      ]
     },
     "execution_count": 31,
     "metadata": {},
     "output_type": "execute_result"
    }
   ],
   "source": [
    "#calculating the root mean squared error\n",
    "rmse(test[\"Order_Demand\"], predictions)"
   ]
  },
  {
   "cell_type": "code",
   "execution_count": 32,
   "id": "55d6e158",
   "metadata": {},
   "outputs": [
    {
     "data": {
      "text/plain": [
       "149547870123335.72"
      ]
     },
     "execution_count": 32,
     "metadata": {},
     "output_type": "execute_result"
    }
   ],
   "source": [
    "#calculating the mean squared error\n",
    "mean_squared_error(test[\"Order_Demand\"], predictions)"
   ]
  },
  {
   "cell_type": "code",
   "execution_count": 33,
   "id": "a83c5ef9",
   "metadata": {},
   "outputs": [],
   "source": [
    "y_test=test[\"Order_Demand\"].values"
   ]
  },
  {
   "cell_type": "code",
   "execution_count": 34,
   "id": "3472b0c2",
   "metadata": {},
   "outputs": [],
   "source": [
    "y_pred = predictions.values"
   ]
  },
  {
   "cell_type": "code",
   "execution_count": 35,
   "id": "443507a7",
   "metadata": {},
   "outputs": [],
   "source": [
    "comapre = pd.DataFrame(zip(y_test,y_pred), columns = ['y_test','y_pred'])"
   ]
  },
  {
   "cell_type": "code",
   "execution_count": 36,
   "id": "c8f76bf8",
   "metadata": {},
   "outputs": [],
   "source": [
    "comapre['diff'] = comapre['y_pred']/(comapre['y_test']-1)"
   ]
  },
  {
   "cell_type": "code",
   "execution_count": 37,
   "id": "12ed798d",
   "metadata": {},
   "outputs": [
    {
     "data": {
      "text/html": [
       "<div>\n",
       "<style scoped>\n",
       "    .dataframe tbody tr th:only-of-type {\n",
       "        vertical-align: middle;\n",
       "    }\n",
       "\n",
       "    .dataframe tbody tr th {\n",
       "        vertical-align: top;\n",
       "    }\n",
       "\n",
       "    .dataframe thead th {\n",
       "        text-align: right;\n",
       "    }\n",
       "</style>\n",
       "<table border=\"1\" class=\"dataframe\">\n",
       "  <thead>\n",
       "    <tr style=\"text-align: right;\">\n",
       "      <th></th>\n",
       "      <th>y_test</th>\n",
       "      <th>y_pred</th>\n",
       "      <th>diff</th>\n",
       "    </tr>\n",
       "  </thead>\n",
       "  <tbody>\n",
       "    <tr>\n",
       "      <th>0</th>\n",
       "      <td>78627619</td>\n",
       "      <td>1.016541e+08</td>\n",
       "      <td>1.292855</td>\n",
       "    </tr>\n",
       "    <tr>\n",
       "      <th>1</th>\n",
       "      <td>74065041</td>\n",
       "      <td>9.009375e+07</td>\n",
       "      <td>1.216414</td>\n",
       "    </tr>\n",
       "    <tr>\n",
       "      <th>2</th>\n",
       "      <td>93303910</td>\n",
       "      <td>1.021972e+08</td>\n",
       "      <td>1.095316</td>\n",
       "    </tr>\n",
       "    <tr>\n",
       "      <th>3</th>\n",
       "      <td>79503364</td>\n",
       "      <td>9.487303e+07</td>\n",
       "      <td>1.193321</td>\n",
       "    </tr>\n",
       "    <tr>\n",
       "      <th>4</th>\n",
       "      <td>80299593</td>\n",
       "      <td>8.634700e+07</td>\n",
       "      <td>1.075311</td>\n",
       "    </tr>\n",
       "    <tr>\n",
       "      <th>5</th>\n",
       "      <td>84553011</td>\n",
       "      <td>9.454459e+07</td>\n",
       "      <td>1.118169</td>\n",
       "    </tr>\n",
       "    <tr>\n",
       "      <th>6</th>\n",
       "      <td>88439936</td>\n",
       "      <td>1.023227e+08</td>\n",
       "      <td>1.156974</td>\n",
       "    </tr>\n",
       "    <tr>\n",
       "      <th>7</th>\n",
       "      <td>80471772</td>\n",
       "      <td>8.605685e+07</td>\n",
       "      <td>1.069404</td>\n",
       "    </tr>\n",
       "    <tr>\n",
       "      <th>8</th>\n",
       "      <td>77698896</td>\n",
       "      <td>8.893183e+07</td>\n",
       "      <td>1.144570</td>\n",
       "    </tr>\n",
       "    <tr>\n",
       "      <th>9</th>\n",
       "      <td>84000757</td>\n",
       "      <td>9.335134e+07</td>\n",
       "      <td>1.111316</td>\n",
       "    </tr>\n",
       "    <tr>\n",
       "      <th>10</th>\n",
       "      <td>90128568</td>\n",
       "      <td>8.732978e+07</td>\n",
       "      <td>0.968947</td>\n",
       "    </tr>\n",
       "    <tr>\n",
       "      <th>11</th>\n",
       "      <td>80497932</td>\n",
       "      <td>9.100245e+07</td>\n",
       "      <td>1.130494</td>\n",
       "    </tr>\n",
       "  </tbody>\n",
       "</table>\n",
       "</div>"
      ],
      "text/plain": [
       "      y_test        y_pred      diff\n",
       "0   78627619  1.016541e+08  1.292855\n",
       "1   74065041  9.009375e+07  1.216414\n",
       "2   93303910  1.021972e+08  1.095316\n",
       "3   79503364  9.487303e+07  1.193321\n",
       "4   80299593  8.634700e+07  1.075311\n",
       "5   84553011  9.454459e+07  1.118169\n",
       "6   88439936  1.023227e+08  1.156974\n",
       "7   80471772  8.605685e+07  1.069404\n",
       "8   77698896  8.893183e+07  1.144570\n",
       "9   84000757  9.335134e+07  1.111316\n",
       "10  90128568  8.732978e+07  0.968947\n",
       "11  80497932  9.100245e+07  1.130494"
      ]
     },
     "execution_count": 37,
     "metadata": {},
     "output_type": "execute_result"
    }
   ],
   "source": [
    "comapre"
   ]
  },
  {
   "cell_type": "markdown",
   "id": "e1c72f29",
   "metadata": {},
   "source": [
    "# Futuer Pred on All Data"
   ]
  },
  {
   "cell_type": "code",
   "execution_count": 38,
   "id": "2f4253fa",
   "metadata": {},
   "outputs": [],
   "source": [
    "model = SARIMAX(dataset['Order_Demand'],\n",
    "               order=(0,1,0),\n",
    "               seasonal_order=(0,1,[1,2],12))"
   ]
  },
  {
   "cell_type": "code",
   "execution_count": 39,
   "id": "2cf71772",
   "metadata": {},
   "outputs": [],
   "source": [
    "result = model.fit()"
   ]
  },
  {
   "cell_type": "code",
   "execution_count": 40,
   "id": "913142df",
   "metadata": {},
   "outputs": [],
   "source": [
    "start_futuer = len(dataset)\n",
    "end_futuer = len(dataset) + 12"
   ]
  },
  {
   "cell_type": "code",
   "execution_count": 41,
   "id": "c5a5ba30",
   "metadata": {},
   "outputs": [],
   "source": [
    "# Predictions for one-year against the test set\n",
    "predictions = result.predict(start_futuer, end_futuer,\n",
    "                             typ = 'levels').rename(\"Predictions\")"
   ]
  },
  {
   "cell_type": "code",
   "execution_count": 42,
   "id": "a3e8bbbb",
   "metadata": {
    "scrolled": true
   },
   "outputs": [
    {
     "data": {
      "text/plain": [
       "<AxesSubplot:xlabel='Date'>"
      ]
     },
     "execution_count": 42,
     "metadata": {},
     "output_type": "execute_result"
    },
    {
     "data": {
      "image/png": "[encoded data removed]",
      "text/plain": [
       "<Figure size 432x288 with 1 Axes>"
      ]
     },
     "metadata": {
      "needs_background": "light"
     },
     "output_type": "display_data"
    }
   ],
   "source": [
    "predictions.plot(legend = True, color = \"#951f53\")\n",
    "dataset['Order_Demand'].plot(legend = True)"
   ]
  },
  {
   "cell_type": "code",
   "execution_count": 43,
   "id": "edb9dd7b",
   "metadata": {},
   "outputs": [],
   "source": [
    "output = dataset.reset_index()"
   ]
  },
  {
   "cell_type": "code",
   "execution_count": 44,
   "id": "b0f4ae5b",
   "metadata": {},
   "outputs": [
    {
     "data": {
      "text/plain": [
       "2017-01-31    7.959537e+07\n",
       "2017-02-28    7.678775e+07\n",
       "2017-03-31    9.213604e+07\n",
       "2017-04-30    8.136279e+07\n",
       "2017-05-31    8.199487e+07\n",
       "2017-06-30    8.513333e+07\n",
       "2017-07-31    8.836628e+07\n",
       "2017-08-31    7.844622e+07\n",
       "2017-09-30    7.932424e+07\n",
       "2017-10-31    8.721598e+07\n",
       "2017-11-30    8.960154e+07\n",
       "2017-12-31    8.270573e+07\n",
       "2018-01-31    8.841014e+07\n",
       "Freq: M, Name: Predictions, dtype: float64"
      ]
     },
     "execution_count": 44,
     "metadata": {},
     "output_type": "execute_result"
    }
   ],
   "source": [
    "predictions"
   ]
  },
  {
   "cell_type": "code",
   "execution_count": 45,
   "id": "188feabd",
   "metadata": {},
   "outputs": [],
   "source": [
    "pred = pd.DataFrame({'Date':predictions.index, \"Order_Demand\":predictions.values})"
   ]
  },
  {
   "cell_type": "code",
   "execution_count": 46,
   "id": "c77a3349",
   "metadata": {},
   "outputs": [
    {
     "data": {
      "text/html": [
       "<div>\n",
       "<style scoped>\n",
       "    .dataframe tbody tr th:only-of-type {\n",
       "        vertical-align: middle;\n",
       "    }\n",
       "\n",
       "    .dataframe tbody tr th {\n",
       "        vertical-align: top;\n",
       "    }\n",
       "\n",
       "    .dataframe thead th {\n",
       "        text-align: right;\n",
       "    }\n",
       "</style>\n",
       "<table border=\"1\" class=\"dataframe\">\n",
       "  <thead>\n",
       "    <tr style=\"text-align: right;\">\n",
       "      <th></th>\n",
       "      <th>Date</th>\n",
       "      <th>Order_Demand</th>\n",
       "    </tr>\n",
       "  </thead>\n",
       "  <tbody>\n",
       "    <tr>\n",
       "      <th>0</th>\n",
       "      <td>2017-01-31</td>\n",
       "      <td>7.959537e+07</td>\n",
       "    </tr>\n",
       "    <tr>\n",
       "      <th>1</th>\n",
       "      <td>2017-02-28</td>\n",
       "      <td>7.678775e+07</td>\n",
       "    </tr>\n",
       "    <tr>\n",
       "      <th>2</th>\n",
       "      <td>2017-03-31</td>\n",
       "      <td>9.213604e+07</td>\n",
       "    </tr>\n",
       "    <tr>\n",
       "      <th>3</th>\n",
       "      <td>2017-04-30</td>\n",
       "      <td>8.136279e+07</td>\n",
       "    </tr>\n",
       "    <tr>\n",
       "      <th>4</th>\n",
       "      <td>2017-05-31</td>\n",
       "      <td>8.199487e+07</td>\n",
       "    </tr>\n",
       "    <tr>\n",
       "      <th>5</th>\n",
       "      <td>2017-06-30</td>\n",
       "      <td>8.513333e+07</td>\n",
       "    </tr>\n",
       "    <tr>\n",
       "      <th>6</th>\n",
       "      <td>2017-07-31</td>\n",
       "      <td>8.836628e+07</td>\n",
       "    </tr>\n",
       "    <tr>\n",
       "      <th>7</th>\n",
       "      <td>2017-08-31</td>\n",
       "      <td>7.844622e+07</td>\n",
       "    </tr>\n",
       "    <tr>\n",
       "      <th>8</th>\n",
       "      <td>2017-09-30</td>\n",
       "      <td>7.932424e+07</td>\n",
       "    </tr>\n",
       "    <tr>\n",
       "      <th>9</th>\n",
       "      <td>2017-10-31</td>\n",
       "      <td>8.721598e+07</td>\n",
       "    </tr>\n",
       "    <tr>\n",
       "      <th>10</th>\n",
       "      <td>2017-11-30</td>\n",
       "      <td>8.960154e+07</td>\n",
       "    </tr>\n",
       "    <tr>\n",
       "      <th>11</th>\n",
       "      <td>2017-12-31</td>\n",
       "      <td>8.270573e+07</td>\n",
       "    </tr>\n",
       "    <tr>\n",
       "      <th>12</th>\n",
       "      <td>2018-01-31</td>\n",
       "      <td>8.841014e+07</td>\n",
       "    </tr>\n",
       "  </tbody>\n",
       "</table>\n",
       "</div>"
      ],
      "text/plain": [
       "         Date  Order_Demand\n",
       "0  2017-01-31  7.959537e+07\n",
       "1  2017-02-28  7.678775e+07\n",
       "2  2017-03-31  9.213604e+07\n",
       "3  2017-04-30  8.136279e+07\n",
       "4  2017-05-31  8.199487e+07\n",
       "5  2017-06-30  8.513333e+07\n",
       "6  2017-07-31  8.836628e+07\n",
       "7  2017-08-31  7.844622e+07\n",
       "8  2017-09-30  7.932424e+07\n",
       "9  2017-10-31  8.721598e+07\n",
       "10 2017-11-30  8.960154e+07\n",
       "11 2017-12-31  8.270573e+07\n",
       "12 2018-01-31  8.841014e+07"
      ]
     },
     "execution_count": 46,
     "metadata": {},
     "output_type": "execute_result"
    }
   ],
   "source": [
    "pred"
   ]
  },
  {
   "cell_type": "code",
   "execution_count": 47,
   "id": "83ee3c13",
   "metadata": {},
   "outputs": [],
   "source": [
    "full_pred_dataset = pd.concat([output,pred])"
   ]
  },
  {
   "cell_type": "code",
   "execution_count": 48,
   "id": "18831dde",
   "metadata": {},
   "outputs": [],
   "source": [
    "#full_pred_dataset.to_csv(\"Full Sales Prediction Dataset.csv\", index =False)"
   ]
  },
  {
   "cell_type": "code",
   "execution_count": null,
   "id": "a6e5873c",
   "metadata": {},
   "outputs": [],
   "source": []
  }
 ],
 "metadata": {
  "kernelspec": {
   "display_name": "Python 3",
   "language": "python",
   "name": "python3"
  },
  "language_info": {
   "codemirror_mode": {
    "name": "ipython",
    "version": 3
   },
   "file_extension": ".py",
   "mimetype": "text/x-python",
   "name": "python",
   "nbconvert_exporter": "python",
   "pygments_lexer": "ipython3",
   "version": "3.8.8"
  }
 },
 "nbformat": 4,
 "nbformat_minor": 5
}
